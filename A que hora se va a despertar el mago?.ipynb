{
 "cells": [
  {
   "cell_type": "markdown",
   "metadata": {},
   "source": [
    "# El mago no se ha despertado"
   ]
  },
  {
   "cell_type": "markdown",
   "metadata": {},
   "source": [
    "Seba y Cristian apostaron a que hora se va a *despertar* (leer los mensajes) el mago. \n",
    "\n",
    "Cristian apuesta primero y luego Sebastian elige una hora. Pero como Cristian va primero, Sebastian tiene dos opciones efectivas: antes de la hora que dijo Cristian o despues. Dado esto, Cristian esta efectivamente eligiendo una hora de corte.\n",
    "\n",
    "Cual es la estrategia optima de apuesta?"
   ]
  },
  {
   "cell_type": "code",
   "execution_count": 2,
   "metadata": {
    "collapsed": true
   },
   "outputs": [],
   "source": [
    "import numpy as np\n",
    "import pandas as pd\n",
    "import scipy as sp\n",
    "from scipy.stats import norm\n",
    "import matplotlib.pyplot as plt\n",
    "%matplotlib inline"
   ]
  },
  {
   "cell_type": "code",
   "execution_count": 6,
   "metadata": {
    "scrolled": false
   },
   "outputs": [
    {
     "name": "stderr",
     "output_type": "stream",
     "text": [
      "/Users/cristianjf/allVEnvs/global3/lib/python3.7/site-packages/ipykernel_launcher.py:36: FutureWarning: Method .as_matrix will be removed in a future version. Use .values instead.\n"
     ]
    },
    {
     "data": {
      "text/plain": [
       "<matplotlib.image.AxesImage at 0x119785ad0>"
      ]
     },
     "execution_count": 6,
     "metadata": {},
     "output_type": "execute_result"
    },
    {
     "data": {
      "image/png": "[encoded data removed]",
      "text/plain": [
       "<Figure size 288x288 with 1 Axes>"
      ]
     },
     "metadata": {
      "needs_background": "light"
     },
     "output_type": "display_data"
    }
   ],
   "source": [
    "def wakeup(corte,P2):\n",
    "    '''\n",
    "    Dados el corte y la apuesta, calcula quien gana.\n",
    "    Zero para el player 1, uno para el player 2. \n",
    "    '''\n",
    "    despierta = np.random.normal(loc=0.5,scale=0.1) # Distribucion real de la hora que despierta  \n",
    "    if (despierta>corte) and (P2=='high'):\n",
    "        return 1\n",
    "    elif (despierta<corte) and (P2=='low'):\n",
    "        return 1\n",
    "    else:\n",
    "        return 0\n",
    "\n",
    "def bet(corte,mu2=0.7):\n",
    "    '''\n",
    "    Dada una hora de corte, y el promedio de la distribucion del jugador 2, elegir la apuesta.\n",
    "    '''\n",
    "    if norm(loc=mu2).cdf(corte)<0.5:\n",
    "        return 'high'\n",
    "    else:\n",
    "        return 'low'\n",
    "\n",
    "MU1 = np.linspace(0,1,10)\n",
    "MU2 = np.linspace(0,1,10)\n",
    "\n",
    "out = []\n",
    "for corte in MU1: # P1 elige el corte\n",
    "    for mu2 in MU2: \n",
    "        P2 = bet(corte,mu2) # Dado el promedio de la distribucion de P2, P2 elige su apuesta\n",
    "        p2_wins = np.mean([wakeup(corte,P2) for i in range(100)]) # Simula cuantas veces gana p2\n",
    "        out.append((corte,mu2,P2,p2_wins))\n",
    "\n",
    "out = pd.DataFrame(out,columns=['corte','mu2','bet2','p2_wins'])\n",
    "out = pd.pivot_table(out,values='p2_wins',columns='mu2',index='corte')\n",
    "\n",
    "plt.matshow(out.as_matrix())"
   ]
  },
  {
   "cell_type": "code",
   "execution_count": null,
   "metadata": {
    "collapsed": true
   },
   "outputs": [],
   "source": []
  }
 ],
 "metadata": {
  "kernelspec": {
   "display_name": "global3",
   "language": "python",
   "name": "global3"
  },
  "language_info": {
   "codemirror_mode": {
    "name": "ipython",
    "version": 3
   },
   "file_extension": ".py",
   "mimetype": "text/x-python",
   "name": "python",
   "nbconvert_exporter": "python",
   "pygments_lexer": "ipython3",
   "version": "3.7.4"
  }
 },
 "nbformat": 4,
 "nbformat_minor": 2
}
